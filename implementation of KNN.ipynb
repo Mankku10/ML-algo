{
 "cells": [
  {
   "cell_type": "code",
   "execution_count": 2,
   "metadata": {},
   "outputs": [],
   "source": [
    "from sklearn.datasets import make_blobs\n",
    "import matplotlib.pyplot as plt\n",
    "import numpy as np"
   ]
  },
  {
   "cell_type": "code",
   "execution_count": 5,
   "metadata": {},
   "outputs": [],
   "source": [
    "X ,y = make_blobs(n_samples=1000,n_features=2,centers=10,random_state=42)"
   ]
  },
  {
   "cell_type": "code",
   "execution_count": 6,
   "metadata": {},
   "outputs": [
    {
     "data": {
      "text/plain": [
       "(1000, 2)"
      ]
     },
     "execution_count": 6,
     "metadata": {},
     "output_type": "execute_result"
    }
   ],
   "source": [
    "X.shape"
   ]
  },
  {
   "cell_type": "code",
   "execution_count": 7,
   "metadata": {},
   "outputs": [
    {
     "data": {
      "text/plain": [
       "(1000,)"
      ]
     },
     "execution_count": 7,
     "metadata": {},
     "output_type": "execute_result"
    }
   ],
   "source": [
    "y.shape"
   ]
  },
  {
   "cell_type": "code",
   "execution_count": 9,
   "metadata": {},
   "outputs": [
    {
     "data": {
      "text/plain": [
       "array([[-1.61989569, -2.57677003],\n",
       "       [-3.70050112,  9.67083974],\n",
       "       [-5.33943813, -5.73938285],\n",
       "       ...,\n",
       "       [-9.76138194,  9.41377609],\n",
       "       [-6.30307023, -6.56885944],\n",
       "       [-5.6411193 , -6.70474296]])"
      ]
     },
     "execution_count": 9,
     "metadata": {},
     "output_type": "execute_result"
    }
   ],
   "source": [
    "X"
   ]
  },
  {
   "cell_type": "code",
   "execution_count": 10,
   "metadata": {},
   "outputs": [
    {
     "data": {
      "text/plain": [
       "array([9, 0, 7, 1, 9, 7, 8, 6, 3, 7, 4, 8, 4, 2, 2, 7, 8, 1, 7, 9, 1, 4,\n",
       "       7, 5, 8, 5, 7, 2, 5, 6, 7, 1, 6, 8, 3, 6, 1, 2, 8, 9, 1, 9, 5, 2,\n",
       "       9, 5, 6, 5, 0, 1, 2, 7, 0, 3, 3, 0, 5, 6, 9, 5, 7, 4, 6, 8, 4, 5,\n",
       "       9, 2, 5, 4, 8, 8, 0, 2, 7, 1, 3, 3, 3, 6, 3, 4, 7, 4, 0, 3, 6, 4,\n",
       "       4, 0, 0, 4, 9, 2, 1, 1, 4, 9, 3, 1, 1, 3, 6, 1, 4, 0, 3, 4, 7, 4,\n",
       "       6, 1, 3, 4, 9, 0, 2, 2, 6, 9, 8, 2, 2, 2, 0, 8, 1, 6, 4, 0, 9, 4,\n",
       "       3, 6, 0, 1, 1, 3, 4, 4, 6, 8, 6, 7, 7, 7, 4, 9, 8, 2, 1, 5, 4, 4,\n",
       "       3, 2, 0, 6, 6, 5, 4, 2, 6, 5, 6, 7, 2, 0, 8, 2, 0, 9, 8, 2, 5, 7,\n",
       "       1, 2, 2, 7, 6, 5, 1, 2, 5, 1, 1, 0, 8, 7, 8, 5, 6, 5, 7, 2, 7, 0,\n",
       "       9, 4, 9, 6, 3, 7, 8, 2, 0, 2, 8, 0, 2, 4, 3, 1, 4, 3, 1, 7, 3, 8,\n",
       "       7, 3, 5, 2, 6, 9, 1, 4, 3, 0, 3, 9, 5, 8, 8, 6, 5, 6, 7, 5, 6, 1,\n",
       "       5, 2, 1, 9, 9, 0, 3, 2, 1, 2, 1, 7, 6, 7, 1, 0, 2, 6, 8, 2, 5, 7,\n",
       "       3, 7, 6, 8, 4, 9, 1, 3, 2, 2, 7, 9, 2, 7, 4, 7, 6, 4, 3, 3, 2, 7,\n",
       "       5, 1, 8, 6, 0, 7, 3, 3, 5, 4, 9, 8, 5, 5, 5, 2, 2, 0, 9, 0, 3, 9,\n",
       "       2, 9, 4, 6, 0, 5, 7, 7, 0, 7, 3, 4, 3, 5, 0, 8, 4, 4, 8, 9, 2, 9,\n",
       "       7, 6, 4, 3, 4, 4, 1, 5, 6, 9, 3, 7, 5, 8, 0, 3, 0, 6, 0, 1, 6, 8,\n",
       "       8, 9, 7, 1, 7, 3, 8, 1, 9, 5, 5, 6, 0, 3, 4, 4, 0, 1, 0, 1, 0, 5,\n",
       "       0, 2, 5, 3, 2, 8, 3, 5, 7, 8, 1, 3, 3, 5, 9, 3, 5, 5, 4, 2, 2, 4,\n",
       "       0, 3, 0, 7, 3, 1, 8, 5, 9, 4, 4, 8, 1, 9, 5, 7, 9, 0, 6, 0, 9, 6,\n",
       "       9, 3, 3, 2, 0, 6, 0, 7, 2, 4, 4, 8, 1, 1, 8, 4, 0, 9, 9, 4, 9, 5,\n",
       "       7, 1, 9, 3, 0, 2, 0, 2, 1, 9, 4, 6, 8, 5, 1, 1, 8, 4, 0, 8, 6, 7,\n",
       "       5, 9, 8, 0, 8, 6, 8, 4, 0, 2, 4, 2, 7, 6, 9, 6, 8, 3, 2, 9, 0, 9,\n",
       "       7, 3, 0, 3, 3, 1, 2, 4, 4, 5, 7, 7, 1, 9, 3, 3, 9, 8, 6, 1, 2, 4,\n",
       "       5, 0, 6, 4, 8, 5, 3, 3, 2, 3, 0, 7, 7, 8, 5, 5, 2, 2, 6, 1, 7, 4,\n",
       "       9, 0, 1, 1, 0, 2, 2, 3, 6, 2, 4, 5, 4, 1, 1, 3, 2, 5, 3, 0, 1, 4,\n",
       "       4, 5, 5, 8, 7, 1, 9, 2, 0, 2, 6, 7, 8, 1, 1, 0, 3, 2, 7, 9, 0, 1,\n",
       "       3, 0, 0, 1, 6, 7, 3, 4, 3, 1, 4, 5, 6, 6, 2, 9, 8, 4, 3, 1, 6, 5,\n",
       "       3, 1, 7, 2, 7, 5, 5, 9, 7, 9, 8, 0, 9, 5, 6, 1, 5, 0, 4, 8, 4, 3,\n",
       "       4, 0, 7, 9, 8, 2, 4, 2, 9, 2, 9, 1, 7, 6, 9, 9, 9, 3, 0, 8, 6, 3,\n",
       "       1, 3, 6, 7, 5, 8, 5, 2, 5, 8, 8, 0, 3, 7, 1, 6, 8, 4, 9, 5, 0, 5,\n",
       "       8, 2, 3, 5, 8, 9, 5, 5, 9, 9, 4, 8, 2, 1, 5, 0, 4, 6, 9, 2, 8, 3,\n",
       "       5, 0, 2, 7, 1, 5, 5, 8, 2, 8, 9, 9, 8, 4, 7, 0, 3, 7, 7, 4, 2, 3,\n",
       "       3, 5, 3, 0, 0, 9, 3, 1, 4, 0, 5, 5, 9, 2, 8, 1, 7, 4, 6, 6, 9, 3,\n",
       "       9, 6, 5, 8, 8, 1, 0, 9, 9, 2, 6, 9, 4, 1, 6, 6, 9, 2, 0, 9, 5, 8,\n",
       "       2, 3, 9, 4, 3, 6, 2, 6, 9, 3, 5, 7, 8, 9, 6, 7, 5, 0, 0, 6, 5, 7,\n",
       "       3, 1, 9, 9, 7, 7, 8, 6, 6, 6, 8, 8, 6, 1, 4, 6, 7, 1, 1, 2, 1, 3,\n",
       "       7, 4, 1, 5, 8, 1, 7, 0, 6, 1, 3, 6, 1, 3, 7, 7, 1, 6, 8, 5, 5, 9,\n",
       "       8, 0, 9, 6, 0, 1, 0, 9, 5, 8, 8, 2, 9, 3, 0, 4, 8, 4, 8, 1, 3, 0,\n",
       "       0, 2, 8, 2, 9, 7, 1, 7, 1, 6, 8, 8, 4, 1, 3, 6, 5, 9, 0, 3, 7, 2,\n",
       "       9, 4, 2, 2, 7, 6, 4, 3, 3, 5, 5, 3, 5, 8, 8, 2, 6, 7, 8, 9, 7, 6,\n",
       "       7, 4, 9, 7, 5, 8, 5, 1, 0, 2, 7, 9, 1, 6, 7, 8, 2, 9, 6, 4, 4, 6,\n",
       "       5, 6, 1, 1, 0, 1, 8, 9, 6, 4, 4, 6, 1, 6, 6, 5, 6, 6, 6, 1, 8, 8,\n",
       "       3, 3, 9, 8, 0, 3, 2, 2, 9, 0, 7, 1, 8, 2, 4, 5, 5, 7, 8, 0, 6, 3,\n",
       "       7, 8, 2, 9, 6, 0, 4, 7, 4, 0, 2, 2, 7, 0, 0, 8, 4, 9, 8, 4, 1, 0,\n",
       "       8, 1, 6, 5, 5, 4, 4, 0, 0, 4, 5, 0, 1, 3, 0, 7, 2, 3, 7, 0, 4, 5,\n",
       "       7, 4, 6, 2, 9, 3, 8, 5, 2, 7])"
      ]
     },
     "execution_count": 10,
     "metadata": {},
     "output_type": "execute_result"
    }
   ],
   "source": [
    "y"
   ]
  },
  {
   "cell_type": "code",
   "execution_count": 17,
   "metadata": {},
   "outputs": [
    {
     "data": {
      "text/plain": [
       "<matplotlib.collections.PathCollection at 0x6d3cbb0>"
      ]
     },
     "execution_count": 17,
     "metadata": {},
     "output_type": "execute_result"
    },
    {
     "data": {
      "image/png": "[encoded data removed]",
      "text/plain": [
       "<Figure size 432x288 with 1 Axes>"
      ]
     },
     "metadata": {
      "needs_background": "light"
     },
     "output_type": "display_data"
    }
   ],
   "source": [
    "plt.scatter(X[:,0],X[:,1],c=y)"
   ]
  },
  {
   "cell_type": "code",
   "execution_count": 18,
   "metadata": {},
   "outputs": [],
   "source": [
    "def eucledian_distace(x1,x2):\n",
    "    return np.sqrt(np.sum((x1-x2)**2))"
   ]
  },
  {
   "cell_type": "code",
   "execution_count": 19,
   "metadata": {},
   "outputs": [
    {
     "data": {
      "text/plain": [
       "12.423077873391719"
      ]
     },
     "execution_count": 19,
     "metadata": {},
     "output_type": "execute_result"
    }
   ],
   "source": [
    "eucledian_distace(X[0],X[1])"
   ]
  },
  {
   "cell_type": "code",
   "execution_count": 82,
   "metadata": {},
   "outputs": [],
   "source": [
    "class KNN:\n",
    "    \n",
    "    def __init__(self,k):\n",
    "        self.k = k\n",
    "        self.X = None\n",
    "        self.y = None\n",
    "        \n",
    "    def fit(self, X, y):\n",
    "        self.X = X\n",
    "        self.y = y\n",
    "        \n",
    "    def predict(self,point):\n",
    "        dis = []\n",
    "        for X , y in zip(self.X,self.y):\n",
    "            d = eucledian_distace(X,point)\n",
    "            dis.append((d,y))\n",
    "            dis = sorted(dis)\n",
    "            top = dis[:self.k]\n",
    "            vals , count = np.unique(np.array(top)[:,1],return_counts= True)\n",
    "            return int(vals[np.argmax(count)])\n",
    "        \n",
    "    def score(self , X ,y):\n",
    "        pred = []\n",
    "        for x in X:\n",
    "            pred.append((self.predict(x)))\n",
    "        pred = np.array(pred)\n",
    "        return np.mean( pred == y)"
   ]
  },
  {
   "cell_type": "code",
   "execution_count": 83,
   "metadata": {},
   "outputs": [],
   "source": [
    "from sklearn.model_selection import train_test_split"
   ]
  },
  {
   "cell_type": "code",
   "execution_count": 84,
   "metadata": {},
   "outputs": [],
   "source": [
    "x_train , x_test , y_train , y_test =train_test_split(X , y ,test_size=.33, random_state = 42)"
   ]
  },
  {
   "cell_type": "code",
   "execution_count": 85,
   "metadata": {},
   "outputs": [],
   "source": [
    "k = KNN(5)"
   ]
  },
  {
   "cell_type": "code",
   "execution_count": 86,
   "metadata": {},
   "outputs": [],
   "source": [
    "k.fit(x_train,y_train)"
   ]
  },
  {
   "cell_type": "code",
   "execution_count": 87,
   "metadata": {},
   "outputs": [
    {
     "data": {
      "text/plain": [
       "0.11818181818181818"
      ]
     },
     "execution_count": 87,
     "metadata": {},
     "output_type": "execute_result"
    }
   ],
   "source": [
    "k.score(x_test,y_test)"
   ]
  },
  {
   "cell_type": "code",
   "execution_count": 71,
   "metadata": {},
   "outputs": [],
   "source": [
    "from sklearn.neighbors import KNeighborsClassifier"
   ]
  },
  {
   "cell_type": "code",
   "execution_count": 72,
   "metadata": {},
   "outputs": [],
   "source": [
    "knn = KNeighborsClassifier(5)"
   ]
  },
  {
   "cell_type": "code",
   "execution_count": 73,
   "metadata": {},
   "outputs": [
    {
     "data": {
      "text/plain": [
       "KNeighborsClassifier(algorithm='auto', leaf_size=30, metric='minkowski',\n",
       "                     metric_params=None, n_jobs=None, n_neighbors=5, p=2,\n",
       "                     weights='uniform')"
      ]
     },
     "execution_count": 73,
     "metadata": {},
     "output_type": "execute_result"
    }
   ],
   "source": [
    "knn.fit(x_train ,y_train)"
   ]
  },
  {
   "cell_type": "code",
   "execution_count": 74,
   "metadata": {},
   "outputs": [
    {
     "data": {
      "text/plain": [
       "0.8696969696969697"
      ]
     },
     "execution_count": 74,
     "metadata": {},
     "output_type": "execute_result"
    }
   ],
   "source": [
    "knn.score(x_test,y_test)"
   ]
  },
  {
   "cell_type": "code",
   "execution_count": null,
   "metadata": {},
   "outputs": [],
   "source": []
  }
 ],
 "metadata": {
  "kernelspec": {
   "display_name": "Python 3",
   "language": "python",
   "name": "python3"
  },
  "language_info": {
   "codemirror_mode": {
    "name": "ipython",
    "version": 3
   },
   "file_extension": ".py",
   "mimetype": "text/x-python",
   "name": "python",
   "nbconvert_exporter": "python",
   "pygments_lexer": "ipython3",
   "version": "3.7.0"
  }
 },
 "nbformat": 4,
 "nbformat_minor": 2
}
